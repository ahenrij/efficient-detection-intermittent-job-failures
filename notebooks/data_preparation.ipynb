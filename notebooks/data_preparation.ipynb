{
 "cells": [
  {
   "cell_type": "markdown",
   "metadata": {},
   "source": [
    "# Setup"
   ]
  },
  {
   "cell_type": "code",
   "execution_count": 1,
   "metadata": {},
   "outputs": [
    {
     "data": {
      "text/plain": [
       "<module 'src.utils.visualization' from '/home/henri/Documents/ETS/Projects/brown-build-detection-llm/src/utils/visualization.py'>"
      ]
     },
     "execution_count": 1,
     "metadata": {},
     "output_type": "execute_result"
    }
   ],
   "source": [
    "import importlib\n",
    "import itertools\n",
    "import pandas as pd\n",
    "\n",
    "from tqdm import tqdm\n",
    "from src.utils import utils\n",
    "from src.utils import visualization as viz\n",
    "\n",
    "\n",
    "importlib.invalidate_caches()\n",
    "importlib.reload(utils)\n",
    "importlib.reload(viz)"
   ]
  },
  {
   "cell_type": "code",
   "execution_count": 2,
   "metadata": {},
   "outputs": [],
   "source": [
    "# configuration\n",
    "tqdm.pandas()\n",
    "\n",
    "# global variables\n",
    "config = {\n",
    "    \"toImageButtonOptions\": {\n",
    "        \"format\": \"png\",  # one of png, svg, jpeg, webp\n",
    "        \"filename\": \"noise_dist\",\n",
    "        \"height\": 400,\n",
    "        \"width\": 500,\n",
    "        \"scale\": 3,\n",
    "    }\n",
    "}"
   ]
  },
  {
   "cell_type": "markdown",
   "metadata": {},
   "source": [
    "# Load data"
   ]
  },
  {
   "cell_type": "code",
   "execution_count": 3,
   "metadata": {},
   "outputs": [],
   "source": [
    "input_file = \"../data/veloren.pickle\""
   ]
  },
  {
   "cell_type": "code",
   "execution_count": 4,
   "metadata": {},
   "outputs": [
    {
     "data": {
      "text/plain": [
       "(57351, 9)"
      ]
     },
     "execution_count": 4,
     "metadata": {},
     "output_type": "execute_result"
    }
   ],
   "source": [
    "df = pd.read_pickle(input_file)\n",
    "df.shape"
   ]
  },
  {
   "cell_type": "code",
   "execution_count": 5,
   "metadata": {},
   "outputs": [
    {
     "name": "stdout",
     "output_type": "stream",
     "text": [
      "<class 'pandas.core.frame.DataFrame'>\n",
      "RangeIndex: 57351 entries, 0 to 57350\n",
      "Data columns (total 9 columns):\n",
      " #   Column       Non-Null Count  Dtype              \n",
      "---  ------       --------------  -----              \n",
      " 0   id           57351 non-null  int64              \n",
      " 1   name         57351 non-null  object             \n",
      " 2   status       57351 non-null  category           \n",
      " 3   created_at   57351 non-null  datetime64[ns, UTC]\n",
      " 4   finished_at  34522 non-null  datetime64[ns, UTC]\n",
      " 5   duration     33987 non-null  float32            \n",
      " 6   commit       57351 non-null  object             \n",
      " 7   project      57351 non-null  int32              \n",
      " 8   log          1 non-null      Sparse[object, nan]\n",
      "dtypes: Sparse[object, nan](1), category(1), datetime64[ns, UTC](2), float32(1), int32(1), int64(1), object(2)\n",
      "memory usage: 2.8+ MB\n"
     ]
    },
    {
     "name": "stderr",
     "output_type": "stream",
     "text": [
      "/tmp/ipykernel_626821/3771845804.py:1: FutureWarning: Allowing arbitrary scalar fill_value in SparseDtype is deprecated. In a future version, the fill_value must be a valid value for the SparseDtype.subtype.\n",
      "  df.info()\n"
     ]
    }
   ],
   "source": [
    "df.info()"
   ]
  },
  {
   "cell_type": "markdown",
   "metadata": {},
   "source": [
    "### Identifying Brown Jobs"
   ]
  },
  {
   "cell_type": "code",
   "execution_count": 6,
   "metadata": {},
   "outputs": [
    {
     "name": "stderr",
     "output_type": "stream",
     "text": [
      "100%|██████████| 57351/57351 [00:03<00:00, 18487.22it/s]\n"
     ]
    }
   ],
   "source": [
    "reruns = utils.list_rerun_suites(df)\n",
    "flaky_reruns = utils.list_flaky_rerun_suites(reruns)\n",
    "\n",
    "flaky_job_ids = list(itertools.chain(*flaky_reruns[\"id\"].to_list()))\n",
    "df[\"brown\"] = df.progress_apply(\n",
    "    lambda job: (\n",
    "        1 if ((job[\"id\"] in flaky_job_ids) and (job[\"status\"] == \"failed\")) else 0\n",
    "    ),\n",
    "    axis=1,\n",
    ").astype(\"category\")"
   ]
  },
  {
   "cell_type": "code",
   "execution_count": 7,
   "metadata": {},
   "outputs": [],
   "source": [
    "# df.to_pickle(input_file)"
   ]
  },
  {
   "cell_type": "code",
   "execution_count": 8,
   "metadata": {},
   "outputs": [
    {
     "data": {
      "image/svg+xml": [
       "<svg class=\"main-svg\" xmlns=\"http://www.w3.org/2000/svg\" xmlns:xlink=\"http://www.w3.org/1999/xlink\" width=\"400\" height=\"400\" style=\"\" viewBox=\"0 0 400 400\"><rect x=\"0\" y=\"0\" width=\"400\" height=\"400\" style=\"fill: rgb(255, 255, 255); fill-opacity: 1;\"/><defs id=\"defs-f8b46e\"><g class=\"clips\"><clipPath id=\"clipf8b46exyplot\" class=\"plotclip\"><rect width=\"286\" height=\"347\"/></clipPath><clipPath class=\"axesclip\" id=\"clipf8b46ex\"><rect x=\"64\" y=\"0\" width=\"286\" height=\"400\"/></clipPath><clipPath class=\"axesclip\" id=\"clipf8b46ey\"><rect x=\"0\" y=\"0\" width=\"400\" height=\"347\"/></clipPath><clipPath class=\"axesclip\" id=\"clipf8b46exy\"><rect x=\"64\" y=\"0\" width=\"286\" height=\"347\"/></clipPath></g><g class=\"gradients\"/><g class=\"patterns\"/></defs><g class=\"bglayer\"/><g class=\"layer-below\"><g class=\"imagelayer\"/><g class=\"shapelayer\"/></g><g class=\"cartesianlayer\"><g class=\"subplot xy\"><g class=\"layer-subplot\"><g class=\"shapelayer\"/><g class=\"imagelayer\"/></g><g class=\"minor-gridlayer\"><g class=\"x\"/><g class=\"y\"/></g><g class=\"gridlayer\"><g class=\"x\"/><g class=\"y\"><path class=\"ygrid crisp\" transform=\"translate(0,285.92)\" d=\"M64,0h286\" style=\"stroke: rgb(232, 232, 232); stroke-opacity: 1; stroke-width: 1px;\"/><path class=\"ygrid crisp\" transform=\"translate(0,224.84)\" d=\"M64,0h286\" style=\"stroke: rgb(232, 232, 232); stroke-opacity: 1; stroke-width: 1px;\"/><path class=\"ygrid crisp\" transform=\"translate(0,163.76)\" d=\"M64,0h286\" style=\"stroke: rgb(232, 232, 232); stroke-opacity: 1; stroke-width: 1px;\"/><path class=\"ygrid crisp\" transform=\"translate(0,102.68)\" d=\"M64,0h286\" style=\"stroke: rgb(232, 232, 232); stroke-opacity: 1; stroke-width: 1px;\"/><path class=\"ygrid crisp\" transform=\"translate(0,41.6)\" d=\"M64,0h286\" style=\"stroke: rgb(232, 232, 232); stroke-opacity: 1; stroke-width: 1px;\"/></g></g><g class=\"zerolinelayer\"/><g class=\"layer-between\"><g class=\"shapelayer\"/><g class=\"imagelayer\"/></g><path class=\"xlines-below\"/><path class=\"ylines-below\"/><g class=\"overlines-below\"/><g class=\"xaxislayer-below\"/><g class=\"yaxislayer-below\"/><g class=\"overaxes-below\"/><g class=\"overplot\"><g class=\"xy\" transform=\"translate(64,0)\"><g class=\"barlayer mlayer\"><g class=\"trace bars\" style=\"opacity: 1;\"><g class=\"points\"><g class=\"point\"><path d=\"M14.3,347V17.35H128.7V347Z\" clip-path=\"url(#clipf8b46exyplot)\" style=\"vector-effect: none; opacity: 1; stroke-width: 0.5px; fill: rgb(255, 0, 0); fill-opacity: 1; stroke: rgb(255, 255, 255); stroke-opacity: 1;\"/><text class=\"bartext bartext-outside\" text-anchor=\"middle\" data-notex=\"1\" x=\"0\" y=\"0\" style=\"font-family: Rockwell; font-size: 14px; fill: rgb(162, 162, 162); fill-opacity: 1; white-space: pre;\" transform=\"translate(71.5,11.350000000000001)\">5397</text></g></g></g><g class=\"trace bars\" style=\"opacity: 1;\"><g class=\"points\"><g class=\"point\"><path d=\"M157.3,347V253.06H271.7V347Z\" clip-path=\"url(#clipf8b46exyplot)\" style=\"vector-effect: none; opacity: 1; stroke-width: 0.5px; fill: rgb(255, 165, 0); fill-opacity: 1; stroke: rgb(255, 255, 255); stroke-opacity: 1;\"/><text class=\"bartext bartext-outside\" text-anchor=\"middle\" data-notex=\"1\" x=\"0\" y=\"0\" style=\"font-family: Rockwell; font-size: 14px; fill: rgb(162, 162, 162); fill-opacity: 1; white-space: pre;\" transform=\"translate(214.5,247.06)\">1538</text></g></g></g></g></g></g><path class=\"xlines-above crisp\" d=\"M63,347.5H350\" style=\"fill: none; stroke-width: 1px; stroke: rgb(36, 36, 36); stroke-opacity: 1;\"/><path class=\"ylines-above crisp\" d=\"M63.5,0V347\" style=\"fill: none; stroke-width: 1px; stroke: rgb(36, 36, 36); stroke-opacity: 1;\"/><g class=\"overlines-above\"/><g class=\"xaxislayer-above\"><path class=\"xtick ticks crisp\" d=\"M0,348v5\" transform=\"translate(135.5,0)\" style=\"stroke: rgb(68, 68, 68); stroke-opacity: 1; stroke-width: 1px;\"/><path class=\"xtick ticks crisp\" d=\"M0,348v5\" transform=\"translate(278.5,0)\" style=\"stroke: rgb(68, 68, 68); stroke-opacity: 1; stroke-width: 1px;\"/><g class=\"xtick\"><text text-anchor=\"middle\" x=\"0\" y=\"369.8\" transform=\"translate(135.5,0)\" style=\"font-family: Rockwell; font-size: 14px; fill: rgb(36, 36, 36); fill-opacity: 1; white-space: pre; opacity: 1;\">0</text></g><g class=\"xtick\"><text text-anchor=\"middle\" x=\"0\" y=\"369.8\" transform=\"translate(278.5,0)\" style=\"font-family: Rockwell; font-size: 14px; fill: rgb(36, 36, 36); fill-opacity: 1; white-space: pre; opacity: 1;\">1</text></g></g><g class=\"yaxislayer-above\"><path class=\"ytick ticks crisp\" d=\"M63,0h-5\" transform=\"translate(0,347)\" style=\"stroke: rgb(68, 68, 68); stroke-opacity: 1; stroke-width: 1px;\"/><path class=\"ytick ticks crisp\" d=\"M63,0h-5\" transform=\"translate(0,285.92)\" style=\"stroke: rgb(68, 68, 68); stroke-opacity: 1; stroke-width: 1px;\"/><path class=\"ytick ticks crisp\" d=\"M63,0h-5\" transform=\"translate(0,224.84)\" style=\"stroke: rgb(68, 68, 68); stroke-opacity: 1; stroke-width: 1px;\"/><path class=\"ytick ticks crisp\" d=\"M63,0h-5\" transform=\"translate(0,163.76)\" style=\"stroke: rgb(68, 68, 68); stroke-opacity: 1; stroke-width: 1px;\"/><path class=\"ytick ticks crisp\" d=\"M63,0h-5\" transform=\"translate(0,102.68)\" style=\"stroke: rgb(68, 68, 68); stroke-opacity: 1; stroke-width: 1px;\"/><path class=\"ytick ticks crisp\" d=\"M63,0h-5\" transform=\"translate(0,41.6)\" style=\"stroke: rgb(68, 68, 68); stroke-opacity: 1; stroke-width: 1px;\"/><g class=\"ytick\"><text text-anchor=\"end\" x=\"55.2\" y=\"4.8999999999999995\" transform=\"translate(0,347)\" style=\"font-family: Rockwell; font-size: 14px; fill: rgb(36, 36, 36); fill-opacity: 1; white-space: pre; opacity: 1;\">0</text></g><g class=\"ytick\"><text text-anchor=\"end\" x=\"55.2\" y=\"4.8999999999999995\" style=\"font-family: Rockwell; font-size: 14px; fill: rgb(36, 36, 36); fill-opacity: 1; white-space: pre; opacity: 1;\" transform=\"translate(0,285.92)\">1000</text></g><g class=\"ytick\"><text text-anchor=\"end\" x=\"55.2\" y=\"4.8999999999999995\" style=\"font-family: Rockwell; font-size: 14px; fill: rgb(36, 36, 36); fill-opacity: 1; white-space: pre; opacity: 1;\" transform=\"translate(0,224.84)\">2000</text></g><g class=\"ytick\"><text text-anchor=\"end\" x=\"55.2\" y=\"4.8999999999999995\" style=\"font-family: Rockwell; font-size: 14px; fill: rgb(36, 36, 36); fill-opacity: 1; white-space: pre; opacity: 1;\" transform=\"translate(0,163.76)\">3000</text></g><g class=\"ytick\"><text text-anchor=\"end\" x=\"55.2\" y=\"4.8999999999999995\" style=\"font-family: Rockwell; font-size: 14px; fill: rgb(36, 36, 36); fill-opacity: 1; white-space: pre; opacity: 1;\" transform=\"translate(0,102.68)\">4000</text></g><g class=\"ytick\"><text text-anchor=\"end\" x=\"55.2\" y=\"4.8999999999999995\" style=\"font-family: Rockwell; font-size: 14px; fill: rgb(36, 36, 36); fill-opacity: 1; white-space: pre; opacity: 1;\" transform=\"translate(0,41.6)\">5000</text></g></g><g class=\"overaxes-above\"/></g></g><g class=\"polarlayer\"/><g class=\"smithlayer\"/><g class=\"ternarylayer\"/><g class=\"geolayer\"/><g class=\"funnelarealayer\"/><g class=\"pielayer\"/><g class=\"iciclelayer\"/><g class=\"treemaplayer\"/><g class=\"sunburstlayer\"/><g class=\"glimages\"/><defs id=\"topdefs-f8b46e\"><g class=\"clips\"/><clipPath id=\"legendf8b46e\"><rect width=\"52\" height=\"75\" x=\"0\" y=\"0\"/></clipPath></defs><g class=\"layer-above\"><g class=\"imagelayer\"/><g class=\"shapelayer\"/></g><g class=\"infolayer\"><g class=\"legend\" pointer-events=\"all\" transform=\"translate(335.7,3.4700000000000033)\"><rect class=\"bg\" shape-rendering=\"crispEdges\" style=\"stroke: rgb(68, 68, 68); stroke-opacity: 1; fill: rgb(255, 255, 255); fill-opacity: 1; stroke-width: 0px;\" width=\"52\" height=\"75\" x=\"0\" y=\"0\"/><g class=\"scrollbox\" transform=\"\" clip-path=\"url(#legendf8b46e)\"><text class=\"legendtitletext\" text-anchor=\"start\" x=\"2\" y=\"22.1\" style=\"font-family: Rockwell; font-size: 17px; fill: rgb(36, 36, 36); fill-opacity: 1; white-space: pre;\">brown</text><g class=\"groups\" transform=\"\"><g class=\"traces\" transform=\"translate(0,37.7)\" style=\"opacity: 1;\"><text class=\"legendtext\" text-anchor=\"start\" x=\"40\" y=\"5.46\" style=\"font-family: Rockwell; font-size: 14px; fill: rgb(36, 36, 36); fill-opacity: 1; white-space: pre;\">0</text><g class=\"layers\" style=\"opacity: 1;\"><g class=\"legendfill\"/><g class=\"legendlines\"/><g class=\"legendsymbols\"><g class=\"legendpoints\"><path class=\"legendundefined\" d=\"M6,6H-6V-6H6Z\" transform=\"translate(20,0)\" style=\"stroke-width: 0.5px; fill: rgb(255, 0, 0); fill-opacity: 1; stroke: rgb(255, 255, 255); stroke-opacity: 1;\"/></g></g></g><rect class=\"legendtoggle\" x=\"0\" y=\"-10.6\" width=\"47\" height=\"21.2\" style=\"fill: rgb(0, 0, 0); fill-opacity: 0;\"/></g></g><g class=\"groups\" transform=\"\"><g class=\"traces\" transform=\"translate(0,58.9)\" style=\"opacity: 1;\"><text class=\"legendtext\" text-anchor=\"start\" x=\"40\" y=\"5.46\" style=\"font-family: Rockwell; font-size: 14px; fill: rgb(36, 36, 36); fill-opacity: 1; white-space: pre;\">1</text><g class=\"layers\" style=\"opacity: 1;\"><g class=\"legendfill\"/><g class=\"legendlines\"/><g class=\"legendsymbols\"><g class=\"legendpoints\"><path class=\"legendundefined\" d=\"M6,6H-6V-6H6Z\" transform=\"translate(20,0)\" style=\"stroke-width: 0.5px; fill: rgb(255, 165, 0); fill-opacity: 1; stroke: rgb(255, 255, 255); stroke-opacity: 1;\"/></g></g></g><rect class=\"legendtoggle\" x=\"0\" y=\"-10.6\" width=\"47\" height=\"21.2\" style=\"fill: rgb(0, 0, 0); fill-opacity: 0;\"/></g></g></g><rect class=\"scrollbar\" rx=\"20\" ry=\"3\" width=\"0\" height=\"0\" style=\"fill: rgb(128, 139, 164); fill-opacity: 1;\" x=\"0\" y=\"0\"/></g><g class=\"g-gtitle\"/><g class=\"g-xtitle\" transform=\"translate(0,-3.2124999999999773)\"><text class=\"xtitle\" x=\"207\" y=\"399.2125\" text-anchor=\"middle\" style=\"opacity: 1; font-family: Rockwell; font-size: 17px; fill: rgb(36, 36, 36); fill-opacity: 1; white-space: pre;\">brown</text></g><g class=\"g-ytitle\" transform=\"translate(8.2626953125,0)\"><text class=\"ytitle\" transform=\"rotate(-90,6.737499999999997,173.5)\" x=\"6.737499999999997\" y=\"173.5\" text-anchor=\"middle\" style=\"opacity: 1; font-family: Rockwell; font-size: 17px; fill: rgb(36, 36, 36); fill-opacity: 1; white-space: pre;\">count</text></g></g></svg>"
      ]
     },
     "metadata": {},
     "output_type": "display_data"
    }
   ],
   "source": [
    "viz.plot_bar(df[df[\"status\"] == \"failed\"], col=\"brown\", config=config, figsize=(400, 400), font_size=14, params={\n",
    "    \"color\": \"brown\",\n",
    "    \"color_discrete_map\": {\n",
    "        0: \"red\",\n",
    "        1: 'orange'\n",
    "    }\n",
    "})"
   ]
  },
  {
   "cell_type": "code",
   "execution_count": 9,
   "metadata": {},
   "outputs": [
    {
     "data": {
      "text/html": [
       "<div>\n",
       "<style scoped>\n",
       "    .dataframe tbody tr th:only-of-type {\n",
       "        vertical-align: middle;\n",
       "    }\n",
       "\n",
       "    .dataframe tbody tr th {\n",
       "        vertical-align: top;\n",
       "    }\n",
       "\n",
       "    .dataframe thead th {\n",
       "        text-align: right;\n",
       "    }\n",
       "</style>\n",
       "<table border=\"1\" class=\"dataframe\">\n",
       "  <thead>\n",
       "    <tr style=\"text-align: right;\">\n",
       "      <th></th>\n",
       "      <th>project</th>\n",
       "      <th>commit</th>\n",
       "      <th>name</th>\n",
       "      <th>id</th>\n",
       "      <th>status</th>\n",
       "      <th>created_at</th>\n",
       "      <th>finished_at</th>\n",
       "    </tr>\n",
       "  </thead>\n",
       "  <tbody>\n",
       "    <tr>\n",
       "      <th>0</th>\n",
       "      <td>10174980</td>\n",
       "      <td>0052af85bcfd0846566d220642bb051b9247b8c9</td>\n",
       "      <td>translation</td>\n",
       "      <td>[3535683030, 3535793687, 3535812277, 353581275...</td>\n",
       "      <td>[success, failed, failed, success, success]</td>\n",
       "      <td>[2022-12-29 20:09:15.111000+00:00, 2022-12-29 ...</td>\n",
       "      <td>[2022-12-29 20:14:18.768000+00:00, 2022-12-29 ...</td>\n",
       "    </tr>\n",
       "    <tr>\n",
       "      <th>1</th>\n",
       "      <td>10174980</td>\n",
       "      <td>00b2bcb7b4ee4ac143d2e1d6ee55a6c2ea8b8737</td>\n",
       "      <td>benchmarks</td>\n",
       "      <td>[4317300679, 4318026424, 4318144588, 431827735...</td>\n",
       "      <td>[success, failed, failed, success, failed, suc...</td>\n",
       "      <td>[2023-05-19 17:55:15.625000+00:00, 2023-05-19 ...</td>\n",
       "      <td>[2023-05-19 18:38:18.686000+00:00, 2023-05-19 ...</td>\n",
       "    </tr>\n",
       "    <tr>\n",
       "      <th>2</th>\n",
       "      <td>10174980</td>\n",
       "      <td>00b2bcb7b4ee4ac143d2e1d6ee55a6c2ea8b8737</td>\n",
       "      <td>coverage</td>\n",
       "      <td>[4317300680, 4317364551, 4318026429, 431808579...</td>\n",
       "      <td>[failed, success, failed, failed, failed, fail...</td>\n",
       "      <td>[2023-05-19 17:55:15.675000+00:00, 2023-05-19 ...</td>\n",
       "      <td>[2023-05-19 18:07:31.574000+00:00, 2023-05-19 ...</td>\n",
       "    </tr>\n",
       "    <tr>\n",
       "      <th>3</th>\n",
       "      <td>10174980</td>\n",
       "      <td>00b2bcb7b4ee4ac143d2e1d6ee55a6c2ea8b8737</td>\n",
       "      <td>linux-x86_64</td>\n",
       "      <td>[4317300681, 4318026435, 4318144549, 432010863...</td>\n",
       "      <td>[success, failed, success, failed, success]</td>\n",
       "      <td>[2023-05-19 17:55:15.683000+00:00, 2023-05-19 ...</td>\n",
       "      <td>[2023-05-19 18:32:03.835000+00:00, 2023-05-19 ...</td>\n",
       "    </tr>\n",
       "    <tr>\n",
       "      <th>4</th>\n",
       "      <td>10174980</td>\n",
       "      <td>00b2bcb7b4ee4ac143d2e1d6ee55a6c2ea8b8737</td>\n",
       "      <td>windows-x86_64</td>\n",
       "      <td>[4317300684, 4318026442, 4318144442, 432010863...</td>\n",
       "      <td>[success, failed, success, failed, success]</td>\n",
       "      <td>[2023-05-19 17:55:15.731000+00:00, 2023-05-19 ...</td>\n",
       "      <td>[2023-05-19 18:32:29.149000+00:00, 2023-05-19 ...</td>\n",
       "    </tr>\n",
       "  </tbody>\n",
       "</table>\n",
       "</div>"
      ],
      "text/plain": [
       "    project                                    commit            name  \\\n",
       "0  10174980  0052af85bcfd0846566d220642bb051b9247b8c9     translation   \n",
       "1  10174980  00b2bcb7b4ee4ac143d2e1d6ee55a6c2ea8b8737      benchmarks   \n",
       "2  10174980  00b2bcb7b4ee4ac143d2e1d6ee55a6c2ea8b8737        coverage   \n",
       "3  10174980  00b2bcb7b4ee4ac143d2e1d6ee55a6c2ea8b8737    linux-x86_64   \n",
       "4  10174980  00b2bcb7b4ee4ac143d2e1d6ee55a6c2ea8b8737  windows-x86_64   \n",
       "\n",
       "                                                  id  \\\n",
       "0  [3535683030, 3535793687, 3535812277, 353581275...   \n",
       "1  [4317300679, 4318026424, 4318144588, 431827735...   \n",
       "2  [4317300680, 4317364551, 4318026429, 431808579...   \n",
       "3  [4317300681, 4318026435, 4318144549, 432010863...   \n",
       "4  [4317300684, 4318026442, 4318144442, 432010863...   \n",
       "\n",
       "                                              status  \\\n",
       "0        [success, failed, failed, success, success]   \n",
       "1  [success, failed, failed, success, failed, suc...   \n",
       "2  [failed, success, failed, failed, failed, fail...   \n",
       "3        [success, failed, success, failed, success]   \n",
       "4        [success, failed, success, failed, success]   \n",
       "\n",
       "                                          created_at  \\\n",
       "0  [2022-12-29 20:09:15.111000+00:00, 2022-12-29 ...   \n",
       "1  [2023-05-19 17:55:15.625000+00:00, 2023-05-19 ...   \n",
       "2  [2023-05-19 17:55:15.675000+00:00, 2023-05-19 ...   \n",
       "3  [2023-05-19 17:55:15.683000+00:00, 2023-05-19 ...   \n",
       "4  [2023-05-19 17:55:15.731000+00:00, 2023-05-19 ...   \n",
       "\n",
       "                                         finished_at  \n",
       "0  [2022-12-29 20:14:18.768000+00:00, 2022-12-29 ...  \n",
       "1  [2023-05-19 18:38:18.686000+00:00, 2023-05-19 ...  \n",
       "2  [2023-05-19 18:07:31.574000+00:00, 2023-05-19 ...  \n",
       "3  [2023-05-19 18:32:03.835000+00:00, 2023-05-19 ...  \n",
       "4  [2023-05-19 18:32:29.149000+00:00, 2023-05-19 ...  "
      ]
     },
     "execution_count": 9,
     "metadata": {},
     "output_type": "execute_result"
    }
   ],
   "source": [
    "flaky_reruns.head()"
   ]
  },
  {
   "cell_type": "markdown",
   "metadata": {},
   "source": [
    "### Adding features releated to reruns"
   ]
  },
  {
   "cell_type": "code",
   "execution_count": 10,
   "metadata": {},
   "outputs": [],
   "source": [
    "def rerun_counts(job_id: int, reruns):\n",
    "    \"\"\"Returns the total, success, and failed number of job reruns for a job.\"\"\"\n",
    "    rerun_sequence = (\n",
    "        reruns[reruns[\"id\"].apply(lambda l: job_id in l)].iloc[0].to_dict()\n",
    "    )    \n",
    "    idx = rerun_sequence[\"id\"].index(job_id)\n",
    "    statuses = rerun_sequence[\"status\"][:idx]\n",
    "    total_reruns = len(statuses)\n",
    "    success_reruns = len(list(filter(lambda x: x == \"success\", statuses)))\n",
    "    failed_reruns = len(list(filter(lambda x: x == \"failed\", statuses)))\n",
    "    return total_reruns, success_reruns, failed_reruns"
   ]
  },
  {
   "cell_type": "code",
   "execution_count": 11,
   "metadata": {},
   "outputs": [
    {
     "name": "stdout",
     "output_type": "stream",
     "text": [
      "(2, 1, 1)\n"
     ]
    }
   ],
   "source": [
    "print(rerun_counts(job_id=3535812277, reruns=reruns))"
   ]
  },
  {
   "cell_type": "code",
   "execution_count": 12,
   "metadata": {},
   "outputs": [
    {
     "data": {
      "text/plain": [
       "(6935, 10)"
      ]
     },
     "execution_count": 12,
     "metadata": {},
     "output_type": "execute_result"
    }
   ],
   "source": [
    "df = df[df[\"status\"] == \"failed\"]\n",
    "df.shape"
   ]
  },
  {
   "cell_type": "code",
   "execution_count": 13,
   "metadata": {},
   "outputs": [],
   "source": [
    "df[\"n_past_reruns\"], df[\"n_past_successes\"], df[\"n_past_fails\"] = zip(*df[\"id\"].apply(lambda id: rerun_counts(id, reruns)))"
   ]
  },
  {
   "cell_type": "code",
   "execution_count": 14,
   "metadata": {},
   "outputs": [
    {
     "data": {
      "text/plain": [
       "n_past_reruns\n",
       "0     4646\n",
       "1      981\n",
       "2      640\n",
       "3      251\n",
       "4      138\n",
       "5      108\n",
       "6       55\n",
       "7       41\n",
       "8       27\n",
       "9       17\n",
       "10      12\n",
       "11       9\n",
       "12       3\n",
       "15       2\n",
       "14       2\n",
       "13       2\n",
       "16       1\n",
       "Name: count, dtype: int64"
      ]
     },
     "execution_count": 14,
     "metadata": {},
     "output_type": "execute_result"
    }
   ],
   "source": [
    "df[\"n_past_reruns\"].value_counts()"
   ]
  },
  {
   "cell_type": "markdown",
   "metadata": {},
   "source": [
    "### Adding temporal features (since last flaky failure)"
   ]
  },
  {
   "cell_type": "code",
   "execution_count": 15,
   "metadata": {},
   "outputs": [
    {
     "data": {
      "text/plain": [
       "(6935, 13)"
      ]
     },
     "execution_count": 15,
     "metadata": {},
     "output_type": "execute_result"
    }
   ],
   "source": [
    "df.shape"
   ]
  },
  {
   "cell_type": "code",
   "execution_count": 16,
   "metadata": {},
   "outputs": [],
   "source": [
    "df.sort_values(by=\"created_at\", ascending=True, inplace=True)"
   ]
  },
  {
   "cell_type": "code",
   "execution_count": 17,
   "metadata": {},
   "outputs": [],
   "source": [
    "def features_since_brown(job_creation_dt, df):\n",
    "    \"\"\"Compute temporal features of a job since last flaky.\"\"\"\n",
    "    brown_event_dates = pd.Series(df[df[\"brown\"] == 1][\"created_at\"].to_list())\n",
    "    last_brown_dt = brown_event_dates[brown_event_dates < job_creation_dt].max()\n",
    "\n",
    "    mask = (df[\"created_at\"] > last_brown_dt) & (\n",
    "        df[\"created_at\"] <= job_creation_dt\n",
    "    )\n",
    "    jobs_since_brown = df[mask]\n",
    "    n_commit_since_brown = jobs_since_brown[\"commit\"].nunique()\n",
    "    time_since_brown = (job_creation_dt - last_brown_dt).total_seconds()\n",
    "\n",
    "    return n_commit_since_brown, time_since_brown\n",
    "\n",
    "\n",
    "def recent_brownness_ratio(job_creation_dt, df):\n",
    "    \"\"\"Compute brown failure ratio in the last 5 job failures.\"\"\"\n",
    "\n",
    "    last_jobs = df[df[\"created_at\"] < job_creation_dt].tail(5)\n",
    "    return last_jobs[\"brown\"].astype(int).mean()"
   ]
  },
  {
   "cell_type": "code",
   "execution_count": 18,
   "metadata": {},
   "outputs": [],
   "source": [
    "df_copy = df.copy(deep=True)\n",
    "\n",
    "df[\"n_commit_since_brown\"], df[\"time_since_brown\"] = zip(*df[\"created_at\"].apply(lambda x: features_since_brown(x, df_copy)))\n",
    "df[\"recent_brownness_ratio\"] = df[\"created_at\"].apply(lambda x: recent_brownness_ratio(x, df_copy))"
   ]
  },
  {
   "cell_type": "code",
   "execution_count": 23,
   "metadata": {},
   "outputs": [
    {
     "data": {
      "text/html": [
       "<div>\n",
       "<style scoped>\n",
       "    .dataframe tbody tr th:only-of-type {\n",
       "        vertical-align: middle;\n",
       "    }\n",
       "\n",
       "    .dataframe tbody tr th {\n",
       "        vertical-align: top;\n",
       "    }\n",
       "\n",
       "    .dataframe thead th {\n",
       "        text-align: right;\n",
       "    }\n",
       "</style>\n",
       "<table border=\"1\" class=\"dataframe\">\n",
       "  <thead>\n",
       "    <tr style=\"text-align: right;\">\n",
       "      <th></th>\n",
       "      <th>id</th>\n",
       "      <th>name</th>\n",
       "      <th>status</th>\n",
       "      <th>created_at</th>\n",
       "      <th>finished_at</th>\n",
       "      <th>duration</th>\n",
       "      <th>commit</th>\n",
       "      <th>project</th>\n",
       "      <th>log</th>\n",
       "      <th>brown</th>\n",
       "      <th>n_past_reruns</th>\n",
       "      <th>n_past_successes</th>\n",
       "      <th>n_past_fails</th>\n",
       "      <th>n_commit_since_brown</th>\n",
       "      <th>time_since_brown</th>\n",
       "      <th>recent_brownness_ratio</th>\n",
       "    </tr>\n",
       "  </thead>\n",
       "  <tbody>\n",
       "    <tr>\n",
       "      <th>43355</th>\n",
       "      <td>2673413812</td>\n",
       "      <td>security</td>\n",
       "      <td>failed</td>\n",
       "      <td>2022-07-04 07:22:49.732000+00:00</td>\n",
       "      <td>2022-07-04 07:25:54.895000+00:00</td>\n",
       "      <td>184.332291</td>\n",
       "      <td>dc5685a8d065e460b01d977993f33f2dac080f59</td>\n",
       "      <td>10174980</td>\n",
       "      <td>\u001b[0KRunning with gitlab-runner 14.10.1 (f76158...</td>\n",
       "      <td>0</td>\n",
       "      <td>0</td>\n",
       "      <td>0</td>\n",
       "      <td>0</td>\n",
       "      <td>0</td>\n",
       "      <td>NaN</td>\n",
       "      <td>NaN</td>\n",
       "    </tr>\n",
       "    <tr>\n",
       "      <th>43354</th>\n",
       "      <td>2673524908</td>\n",
       "      <td>security</td>\n",
       "      <td>failed</td>\n",
       "      <td>2022-07-04 07:50:16.181000+00:00</td>\n",
       "      <td>2022-07-04 07:58:05.284000+00:00</td>\n",
       "      <td>468.279510</td>\n",
       "      <td>3751e3ca33ddfb5bbc7341799ff113600d3a126e</td>\n",
       "      <td>10174980</td>\n",
       "      <td>\u001b[0KRunning with gitlab-runner 15.0.0 (febb2a0...</td>\n",
       "      <td>0</td>\n",
       "      <td>0</td>\n",
       "      <td>0</td>\n",
       "      <td>0</td>\n",
       "      <td>0</td>\n",
       "      <td>NaN</td>\n",
       "      <td>0.000000</td>\n",
       "    </tr>\n",
       "    <tr>\n",
       "      <th>48184</th>\n",
       "      <td>2673639253</td>\n",
       "      <td>benchmarks</td>\n",
       "      <td>failed</td>\n",
       "      <td>2022-07-04 08:13:19.711000+00:00</td>\n",
       "      <td>2022-07-04 08:18:58.090000+00:00</td>\n",
       "      <td>335.929596</td>\n",
       "      <td>53f885ff571059366f1f20cdc208d55c2acb6566</td>\n",
       "      <td>10174980</td>\n",
       "      <td>\u001b[0KRunning with gitlab-runner 14.1.0 (8925d9a...</td>\n",
       "      <td>1</td>\n",
       "      <td>0</td>\n",
       "      <td>0</td>\n",
       "      <td>0</td>\n",
       "      <td>0</td>\n",
       "      <td>NaN</td>\n",
       "      <td>0.000000</td>\n",
       "    </tr>\n",
       "    <tr>\n",
       "      <th>43353</th>\n",
       "      <td>2673639259</td>\n",
       "      <td>windows-x86_64</td>\n",
       "      <td>failed</td>\n",
       "      <td>2022-07-04 08:13:19.745000+00:00</td>\n",
       "      <td>2022-07-04 08:51:01.975000+00:00</td>\n",
       "      <td>2257.425293</td>\n",
       "      <td>53f885ff571059366f1f20cdc208d55c2acb6566</td>\n",
       "      <td>10174980</td>\n",
       "      <td>\u001b[0KRunning with gitlab-runner 14.1.0 (8925d9a...</td>\n",
       "      <td>0</td>\n",
       "      <td>0</td>\n",
       "      <td>0</td>\n",
       "      <td>0</td>\n",
       "      <td>1</td>\n",
       "      <td>0.034</td>\n",
       "      <td>0.333333</td>\n",
       "    </tr>\n",
       "    <tr>\n",
       "      <th>43319</th>\n",
       "      <td>2673814136</td>\n",
       "      <td>windows-x86_64</td>\n",
       "      <td>failed</td>\n",
       "      <td>2022-07-04 08:51:02.061000+00:00</td>\n",
       "      <td>2022-07-04 09:18:33.731000+00:00</td>\n",
       "      <td>1649.338989</td>\n",
       "      <td>53f885ff571059366f1f20cdc208d55c2acb6566</td>\n",
       "      <td>10174980</td>\n",
       "      <td>\u001b[0KRunning with gitlab-runner 14.1.0 (8925d9a...</td>\n",
       "      <td>0</td>\n",
       "      <td>1</td>\n",
       "      <td>0</td>\n",
       "      <td>1</td>\n",
       "      <td>1</td>\n",
       "      <td>2262.350</td>\n",
       "      <td>0.250000</td>\n",
       "    </tr>\n",
       "  </tbody>\n",
       "</table>\n",
       "</div>"
      ],
      "text/plain": [
       "               id            name  status                       created_at  \\\n",
       "43355  2673413812        security  failed 2022-07-04 07:22:49.732000+00:00   \n",
       "43354  2673524908        security  failed 2022-07-04 07:50:16.181000+00:00   \n",
       "48184  2673639253      benchmarks  failed 2022-07-04 08:13:19.711000+00:00   \n",
       "43353  2673639259  windows-x86_64  failed 2022-07-04 08:13:19.745000+00:00   \n",
       "43319  2673814136  windows-x86_64  failed 2022-07-04 08:51:02.061000+00:00   \n",
       "\n",
       "                           finished_at     duration  \\\n",
       "43355 2022-07-04 07:25:54.895000+00:00   184.332291   \n",
       "43354 2022-07-04 07:58:05.284000+00:00   468.279510   \n",
       "48184 2022-07-04 08:18:58.090000+00:00   335.929596   \n",
       "43353 2022-07-04 08:51:01.975000+00:00  2257.425293   \n",
       "43319 2022-07-04 09:18:33.731000+00:00  1649.338989   \n",
       "\n",
       "                                         commit   project  \\\n",
       "43355  dc5685a8d065e460b01d977993f33f2dac080f59  10174980   \n",
       "43354  3751e3ca33ddfb5bbc7341799ff113600d3a126e  10174980   \n",
       "48184  53f885ff571059366f1f20cdc208d55c2acb6566  10174980   \n",
       "43353  53f885ff571059366f1f20cdc208d55c2acb6566  10174980   \n",
       "43319  53f885ff571059366f1f20cdc208d55c2acb6566  10174980   \n",
       "\n",
       "                                                     log brown  n_past_reruns  \\\n",
       "43355  \u001b[0KRunning with gitlab-runner 14.10.1 (f76158...     0              0   \n",
       "43354  \u001b[0KRunning with gitlab-runner 15.0.0 (febb2a0...     0              0   \n",
       "48184  \u001b[0KRunning with gitlab-runner 14.1.0 (8925d9a...     1              0   \n",
       "43353  \u001b[0KRunning with gitlab-runner 14.1.0 (8925d9a...     0              0   \n",
       "43319  \u001b[0KRunning with gitlab-runner 14.1.0 (8925d9a...     0              1   \n",
       "\n",
       "       n_past_successes  n_past_fails  n_commit_since_brown  time_since_brown  \\\n",
       "43355                 0             0                     0               NaN   \n",
       "43354                 0             0                     0               NaN   \n",
       "48184                 0             0                     0               NaN   \n",
       "43353                 0             0                     1             0.034   \n",
       "43319                 0             1                     1          2262.350   \n",
       "\n",
       "       recent_brownness_ratio  \n",
       "43355                     NaN  \n",
       "43354                0.000000  \n",
       "48184                0.000000  \n",
       "43353                0.333333  \n",
       "43319                0.250000  "
      ]
     },
     "execution_count": 23,
     "metadata": {},
     "output_type": "execute_result"
    }
   ],
   "source": [
    "df.head(5)"
   ]
  },
  {
   "cell_type": "code",
   "execution_count": 20,
   "metadata": {},
   "outputs": [
    {
     "data": {
      "text/html": [
       "<div>\n",
       "<style scoped>\n",
       "    .dataframe tbody tr th:only-of-type {\n",
       "        vertical-align: middle;\n",
       "    }\n",
       "\n",
       "    .dataframe tbody tr th {\n",
       "        vertical-align: top;\n",
       "    }\n",
       "\n",
       "    .dataframe thead th {\n",
       "        text-align: right;\n",
       "    }\n",
       "</style>\n",
       "<table border=\"1\" class=\"dataframe\">\n",
       "  <thead>\n",
       "    <tr style=\"text-align: right;\">\n",
       "      <th></th>\n",
       "      <th>n_commit_since_brown</th>\n",
       "      <th>brown</th>\n",
       "    </tr>\n",
       "  </thead>\n",
       "  <tbody>\n",
       "    <tr>\n",
       "      <th>n_commit_since_brown</th>\n",
       "      <td>1.000000</td>\n",
       "      <td>-0.239799</td>\n",
       "    </tr>\n",
       "    <tr>\n",
       "      <th>brown</th>\n",
       "      <td>-0.239799</td>\n",
       "      <td>1.000000</td>\n",
       "    </tr>\n",
       "  </tbody>\n",
       "</table>\n",
       "</div>"
      ],
      "text/plain": [
       "                      n_commit_since_brown     brown\n",
       "n_commit_since_brown              1.000000 -0.239799\n",
       "brown                            -0.239799  1.000000"
      ]
     },
     "execution_count": 20,
     "metadata": {},
     "output_type": "execute_result"
    }
   ],
   "source": [
    "df[[\"n_commit_since_brown\", \"brown\"]].corr()"
   ]
  },
  {
   "cell_type": "code",
   "execution_count": null,
   "metadata": {},
   "outputs": [],
   "source": []
  }
 ],
 "metadata": {
  "kernelspec": {
   "display_name": "brown-build-detection-llm-eUJSbT21-py3.10",
   "language": "python",
   "name": "python3"
  },
  "language_info": {
   "codemirror_mode": {
    "name": "ipython",
    "version": 3
   },
   "file_extension": ".py",
   "mimetype": "text/x-python",
   "name": "python",
   "nbconvert_exporter": "python",
   "pygments_lexer": "ipython3",
   "version": "3.10.12"
  }
 },
 "nbformat": 4,
 "nbformat_minor": 2
}
