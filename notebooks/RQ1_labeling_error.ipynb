{
 "cells": [
  {
   "cell_type": "markdown",
   "metadata": {},
   "source": [
    "# Setup \n",
    "\n",
    "In this notebook we assess the labeling error made using the existing heuristic based on browness to label flaky jobs"
   ]
  },
  {
   "cell_type": "code",
   "execution_count": 1,
   "metadata": {},
   "outputs": [
    {
     "data": {
      "text/plain": [
       "<module 'src.labeling.load_dataset' from '/home/henri/Documents/ETS/telus-efficient-flaky-job-failures-detection/src/labeling/load_dataset.py'>"
      ]
     },
     "execution_count": 1,
     "metadata": {},
     "output_type": "execute_result"
    }
   ],
   "source": [
    "import importlib\n",
    "import pandas as pd\n",
    "\n",
    "from src.labeling import load_dataset\n",
    "from src.utils import constants\n",
    "\n",
    "importlib.invalidate_caches()\n",
    "importlib.reload(load_dataset)"
   ]
  },
  {
   "cell_type": "markdown",
   "metadata": {},
   "source": [
    "### Labeling Error"
   ]
  },
  {
   "cell_type": "code",
   "execution_count": 2,
   "metadata": {},
   "outputs": [],
   "source": [
    "def labeling_error(df:pd.DataFrame) -> float:\n",
    "    \"\"\"Calculate labeling error ratio.\"\"\"\n",
    "    return round(float((df[\"brown\"] - df[\"flaky\"]).abs().mean())*100, 2)\n",
    "\n",
    "\n",
    "results = []\n",
    "reasons = []\n",
    "\n",
    "for project in constants.PROJECTS:\n",
    "    df = pd.read_csv(f\"../data/sampled/{project}.csv\")\n",
    "    labeled_df = load_dataset.load_dataset(f\"../data/logs/raw/{project}/\")\n",
    "    labeled_df = labeled_df[[\"id\", \"flaky\", \"flaky_reason\"]]\n",
    "    if df.shape[0] != labeled_df.shape[0]:\n",
    "        print(\"ERROR: dataframe lengths don't match!\")\n",
    "        break\n",
    "    df = df.merge(labeled_df, how=\"inner\", on=\"id\")\n",
    "    df.to_csv(f\"../data/labeled/{project}.csv\", index=False)\n",
    "    results.append(\n",
    "        {\n",
    "            \"project\": project,\n",
    "            \"size\": df.shape[0],\n",
    "            \"n_brown\": int(df[\"brown\"].value_counts()[1]),\n",
    "            \"n_not_brown\": int(df[\"brown\"].value_counts()[0]),\n",
    "            \"n_flaky\": int(df[\"flaky\"].value_counts()[1]),\n",
    "            \"n_not_flaky\": int(df[\"flaky\"].value_counts()[0]),\n",
    "            \"error_rate\": labeling_error(df)\n",
    "        }\n",
    "    )\n",
    "    flaky_reasons = df[df[\"flaky_reason\"].isin(list(range(1, 40)))][\"flaky_reason\"].value_counts().rename_axis('reason_id').reset_index(name='count')\n",
    "    flaky_reasons[\"project\"] = project\n",
    "    reasons.append(flaky_reasons)\n",
    "    del df"
   ]
  },
  {
   "cell_type": "code",
   "execution_count": 3,
   "metadata": {},
   "outputs": [
    {
     "data": {
      "application/vnd.microsoft.datawrangler.viewer.v0+json": {
       "columns": [
        {
         "name": "index",
         "rawType": "int64",
         "type": "integer"
        },
        {
         "name": "project",
         "rawType": "object",
         "type": "string"
        },
        {
         "name": "size",
         "rawType": "int64",
         "type": "integer"
        },
        {
         "name": "n_brown",
         "rawType": "int64",
         "type": "integer"
        },
        {
         "name": "n_not_brown",
         "rawType": "int64",
         "type": "integer"
        },
        {
         "name": "n_flaky",
         "rawType": "int64",
         "type": "integer"
        },
        {
         "name": "n_not_flaky",
         "rawType": "int64",
         "type": "integer"
        },
        {
         "name": "error_rate",
         "rawType": "float64",
         "type": "float"
        }
       ],
       "conversionMethod": "pd.DataFrame",
       "ref": "3cab691a-1865-4138-828c-1c2c9fa0f794",
       "rows": [
        [
         "0",
         "A",
         "366",
         "77",
         "289",
         "175",
         "191",
         "26.78"
        ],
        [
         "1",
         "B",
         "346",
         "184",
         "162",
         "240",
         "106",
         "16.18"
        ],
        [
         "2",
         "C",
         "347",
         "36",
         "311",
         "173",
         "174",
         "39.48"
        ],
        [
         "3",
         "D",
         "369",
         "52",
         "317",
         "237",
         "132",
         "50.14"
        ],
        [
         "4",
         "E",
         "331",
         "64",
         "267",
         "206",
         "125",
         "42.9"
        ],
        [
         "5",
         "veloren",
         "366",
         "81",
         "285",
         "141",
         "225",
         "16.39"
        ]
       ],
       "shape": {
        "columns": 7,
        "rows": 6
       }
      },
      "text/html": [
       "<div>\n",
       "<style scoped>\n",
       "    .dataframe tbody tr th:only-of-type {\n",
       "        vertical-align: middle;\n",
       "    }\n",
       "\n",
       "    .dataframe tbody tr th {\n",
       "        vertical-align: top;\n",
       "    }\n",
       "\n",
       "    .dataframe thead th {\n",
       "        text-align: right;\n",
       "    }\n",
       "</style>\n",
       "<table border=\"1\" class=\"dataframe\">\n",
       "  <thead>\n",
       "    <tr style=\"text-align: right;\">\n",
       "      <th></th>\n",
       "      <th>project</th>\n",
       "      <th>size</th>\n",
       "      <th>n_brown</th>\n",
       "      <th>n_not_brown</th>\n",
       "      <th>n_flaky</th>\n",
       "      <th>n_not_flaky</th>\n",
       "      <th>error_rate</th>\n",
       "    </tr>\n",
       "  </thead>\n",
       "  <tbody>\n",
       "    <tr>\n",
       "      <th>0</th>\n",
       "      <td>A</td>\n",
       "      <td>366</td>\n",
       "      <td>77</td>\n",
       "      <td>289</td>\n",
       "      <td>175</td>\n",
       "      <td>191</td>\n",
       "      <td>26.78</td>\n",
       "    </tr>\n",
       "    <tr>\n",
       "      <th>1</th>\n",
       "      <td>B</td>\n",
       "      <td>346</td>\n",
       "      <td>184</td>\n",
       "      <td>162</td>\n",
       "      <td>240</td>\n",
       "      <td>106</td>\n",
       "      <td>16.18</td>\n",
       "    </tr>\n",
       "    <tr>\n",
       "      <th>2</th>\n",
       "      <td>C</td>\n",
       "      <td>347</td>\n",
       "      <td>36</td>\n",
       "      <td>311</td>\n",
       "      <td>173</td>\n",
       "      <td>174</td>\n",
       "      <td>39.48</td>\n",
       "    </tr>\n",
       "    <tr>\n",
       "      <th>3</th>\n",
       "      <td>D</td>\n",
       "      <td>369</td>\n",
       "      <td>52</td>\n",
       "      <td>317</td>\n",
       "      <td>237</td>\n",
       "      <td>132</td>\n",
       "      <td>50.14</td>\n",
       "    </tr>\n",
       "    <tr>\n",
       "      <th>4</th>\n",
       "      <td>E</td>\n",
       "      <td>331</td>\n",
       "      <td>64</td>\n",
       "      <td>267</td>\n",
       "      <td>206</td>\n",
       "      <td>125</td>\n",
       "      <td>42.90</td>\n",
       "    </tr>\n",
       "    <tr>\n",
       "      <th>5</th>\n",
       "      <td>veloren</td>\n",
       "      <td>366</td>\n",
       "      <td>81</td>\n",
       "      <td>285</td>\n",
       "      <td>141</td>\n",
       "      <td>225</td>\n",
       "      <td>16.39</td>\n",
       "    </tr>\n",
       "  </tbody>\n",
       "</table>\n",
       "</div>"
      ],
      "text/plain": [
       "   project  size  n_brown  n_not_brown  n_flaky  n_not_flaky  error_rate\n",
       "0        A   366       77          289      175          191       26.78\n",
       "1        B   346      184          162      240          106       16.18\n",
       "2        C   347       36          311      173          174       39.48\n",
       "3        D   369       52          317      237          132       50.14\n",
       "4        E   331       64          267      206          125       42.90\n",
       "5  veloren   366       81          285      141          225       16.39"
      ]
     },
     "execution_count": 3,
     "metadata": {},
     "output_type": "execute_result"
    }
   ],
   "source": [
    "results_df = pd.DataFrame(results)\n",
    "results_df"
   ]
  },
  {
   "cell_type": "code",
   "execution_count": 4,
   "metadata": {},
   "outputs": [],
   "source": [
    "results_df.to_csv(\"../data/results/labeling_error_results.csv\", index=False)"
   ]
  },
  {
   "cell_type": "markdown",
   "metadata": {},
   "source": [
    "### Failure Reasons of Misclassified Job Failures"
   ]
  },
  {
   "cell_type": "code",
   "execution_count": 5,
   "metadata": {},
   "outputs": [
    {
     "data": {
      "application/vnd.microsoft.datawrangler.viewer.v0+json": {
       "columns": [
        {
         "name": "index",
         "rawType": "int64",
         "type": "integer"
        },
        {
         "name": "reason_id",
         "rawType": "int64",
         "type": "integer"
        },
        {
         "name": "count",
         "rawType": "int64",
         "type": "integer"
        },
        {
         "name": "project",
         "rawType": "object",
         "type": "string"
        }
       ],
       "conversionMethod": "pd.DataFrame",
       "ref": "945f902d-9cb7-4b2a-baaf-c4bf5d555389",
       "rows": [
        [
         "0",
         "2",
         "39",
         "A"
        ],
        [
         "1",
         "4",
         "12",
         "A"
        ],
        [
         "2",
         "8",
         "8",
         "A"
        ],
        [
         "3",
         "9",
         "6",
         "A"
        ],
        [
         "4",
         "5",
         "5",
         "A"
        ],
        [
         "5",
         "14",
         "5",
         "A"
        ],
        [
         "6",
         "6",
         "4",
         "A"
        ],
        [
         "7",
         "10",
         "4",
         "A"
        ],
        [
         "8",
         "1",
         "2",
         "A"
        ],
        [
         "9",
         "3",
         "2",
         "A"
        ],
        [
         "10",
         "16",
         "2",
         "A"
        ],
        [
         "11",
         "7",
         "2",
         "A"
        ],
        [
         "12",
         "11",
         "2",
         "A"
        ],
        [
         "13",
         "17",
         "2",
         "A"
        ],
        [
         "14",
         "13",
         "1",
         "A"
        ],
        [
         "15",
         "15",
         "1",
         "A"
        ],
        [
         "16",
         "18",
         "32",
         "B"
        ],
        [
         "17",
         "22",
         "11",
         "B"
        ],
        [
         "18",
         "2",
         "7",
         "B"
        ],
        [
         "19",
         "19",
         "3",
         "B"
        ],
        [
         "20",
         "3",
         "2",
         "B"
        ],
        [
         "21",
         "20",
         "2",
         "B"
        ],
        [
         "22",
         "14",
         "1",
         "B"
        ],
        [
         "23",
         "4",
         "1",
         "B"
        ],
        [
         "24",
         "13",
         "1",
         "B"
        ],
        [
         "25",
         "21",
         "1",
         "B"
        ],
        [
         "26",
         "29",
         "29",
         "C"
        ],
        [
         "27",
         "5",
         "22",
         "C"
        ],
        [
         "28",
         "23",
         "18",
         "C"
        ],
        [
         "29",
         "13",
         "18",
         "C"
        ],
        [
         "30",
         "28",
         "8",
         "C"
        ],
        [
         "31",
         "10",
         "6",
         "C"
        ],
        [
         "32",
         "3",
         "6",
         "C"
        ],
        [
         "33",
         "27",
         "5",
         "C"
        ],
        [
         "34",
         "6",
         "4",
         "C"
        ],
        [
         "35",
         "26",
         "4",
         "C"
        ],
        [
         "36",
         "24",
         "4",
         "C"
        ],
        [
         "37",
         "17",
         "3",
         "C"
        ],
        [
         "38",
         "19",
         "3",
         "C"
        ],
        [
         "39",
         "1",
         "2",
         "C"
        ],
        [
         "40",
         "30",
         "2",
         "C"
        ],
        [
         "41",
         "14",
         "2",
         "C"
        ],
        [
         "42",
         "11",
         "1",
         "C"
        ],
        [
         "43",
         "25",
         "1",
         "C"
        ],
        [
         "44",
         "9",
         "1",
         "C"
        ],
        [
         "45",
         "6",
         "152",
         "D"
        ],
        [
         "46",
         "32",
         "8",
         "D"
        ],
        [
         "47",
         "19",
         "6",
         "D"
        ],
        [
         "48",
         "5",
         "4",
         "D"
        ],
        [
         "49",
         "23",
         "4",
         "D"
        ]
       ],
       "shape": {
        "columns": 3,
        "rows": 79
       }
      },
      "text/html": [
       "<div>\n",
       "<style scoped>\n",
       "    .dataframe tbody tr th:only-of-type {\n",
       "        vertical-align: middle;\n",
       "    }\n",
       "\n",
       "    .dataframe tbody tr th {\n",
       "        vertical-align: top;\n",
       "    }\n",
       "\n",
       "    .dataframe thead th {\n",
       "        text-align: right;\n",
       "    }\n",
       "</style>\n",
       "<table border=\"1\" class=\"dataframe\">\n",
       "  <thead>\n",
       "    <tr style=\"text-align: right;\">\n",
       "      <th></th>\n",
       "      <th>reason_id</th>\n",
       "      <th>count</th>\n",
       "      <th>project</th>\n",
       "    </tr>\n",
       "  </thead>\n",
       "  <tbody>\n",
       "    <tr>\n",
       "      <th>0</th>\n",
       "      <td>2</td>\n",
       "      <td>39</td>\n",
       "      <td>A</td>\n",
       "    </tr>\n",
       "    <tr>\n",
       "      <th>1</th>\n",
       "      <td>4</td>\n",
       "      <td>12</td>\n",
       "      <td>A</td>\n",
       "    </tr>\n",
       "    <tr>\n",
       "      <th>2</th>\n",
       "      <td>8</td>\n",
       "      <td>8</td>\n",
       "      <td>A</td>\n",
       "    </tr>\n",
       "    <tr>\n",
       "      <th>3</th>\n",
       "      <td>9</td>\n",
       "      <td>6</td>\n",
       "      <td>A</td>\n",
       "    </tr>\n",
       "    <tr>\n",
       "      <th>4</th>\n",
       "      <td>5</td>\n",
       "      <td>5</td>\n",
       "      <td>A</td>\n",
       "    </tr>\n",
       "    <tr>\n",
       "      <th>...</th>\n",
       "      <td>...</td>\n",
       "      <td>...</td>\n",
       "      <td>...</td>\n",
       "    </tr>\n",
       "    <tr>\n",
       "      <th>74</th>\n",
       "      <td>31</td>\n",
       "      <td>2</td>\n",
       "      <td>veloren</td>\n",
       "    </tr>\n",
       "    <tr>\n",
       "      <th>75</th>\n",
       "      <td>33</td>\n",
       "      <td>1</td>\n",
       "      <td>veloren</td>\n",
       "    </tr>\n",
       "    <tr>\n",
       "      <th>76</th>\n",
       "      <td>10</td>\n",
       "      <td>1</td>\n",
       "      <td>veloren</td>\n",
       "    </tr>\n",
       "    <tr>\n",
       "      <th>77</th>\n",
       "      <td>30</td>\n",
       "      <td>1</td>\n",
       "      <td>veloren</td>\n",
       "    </tr>\n",
       "    <tr>\n",
       "      <th>78</th>\n",
       "      <td>2</td>\n",
       "      <td>1</td>\n",
       "      <td>veloren</td>\n",
       "    </tr>\n",
       "  </tbody>\n",
       "</table>\n",
       "<p>79 rows × 3 columns</p>\n",
       "</div>"
      ],
      "text/plain": [
       "    reason_id  count  project\n",
       "0           2     39        A\n",
       "1           4     12        A\n",
       "2           8      8        A\n",
       "3           9      6        A\n",
       "4           5      5        A\n",
       "..        ...    ...      ...\n",
       "74         31      2  veloren\n",
       "75         33      1  veloren\n",
       "76         10      1  veloren\n",
       "77         30      1  veloren\n",
       "78          2      1  veloren\n",
       "\n",
       "[79 rows x 3 columns]"
      ]
     },
     "execution_count": 5,
     "metadata": {},
     "output_type": "execute_result"
    }
   ],
   "source": [
    "reasons_df = pd.concat(reasons, axis=0).reset_index()[[\"reason_id\", \"count\", \"project\"]]\n",
    "reasons_df"
   ]
  },
  {
   "cell_type": "code",
   "execution_count": 6,
   "metadata": {},
   "outputs": [
    {
     "data": {
      "application/vnd.microsoft.datawrangler.viewer.v0+json": {
       "columns": [
        {
         "name": "index",
         "rawType": "int64",
         "type": "integer"
        },
        {
         "name": "reason_id",
         "rawType": "int64",
         "type": "integer"
        },
        {
         "name": "failure_reason",
         "rawType": "object",
         "type": "unknown"
        }
       ],
       "conversionMethod": "pd.DataFrame",
       "ref": "6d42a29a-e6fa-4814-b883-5a559ae04728",
       "rows": [
        [
         "0",
         "0",
         null
        ],
        [
         "1",
         "1",
         "host_resolution_failure"
        ],
        [
         "2",
         "2",
         "dependency_installation_failure"
        ],
        [
         "3",
         "3",
         "remote_call_timeout"
        ],
        [
         "4",
         "4",
         "buggy_dependency"
        ],
        [
         "5",
         "5",
         "container_platform_auth_failure"
        ],
        [
         "6",
         "6",
         "misconfigured_env_variable"
        ],
        [
         "7",
         "7",
         "repository_file_not_found"
        ],
        [
         "8",
         "8",
         "image_not_found"
        ],
        [
         "9",
         "9",
         "repository_access_denied"
        ],
        [
         "10",
         "10",
         "connection_refused"
        ],
        [
         "11",
         "11",
         "runner_pod_failure"
        ],
        [
         "12",
         "12",
         "image_build_read_error"
        ],
        [
         "13",
         "13",
         "container_not_found"
        ],
        [
         "14",
         "14",
         "runner_system_failure"
        ],
        [
         "15",
         "15",
         "network_concurrency_issue"
        ],
        [
         "16",
         "16",
         "container_oom_error"
        ],
        [
         "17",
         "17",
         "git_transient_error"
        ],
        [
         "18",
         "18",
         "dependencies_conflict_error"
        ],
        [
         "19",
         "19",
         "job_execution_timeout"
        ],
        [
         "20",
         "20",
         "flaky_test:ui_unhandled_promise_rejection"
        ],
        [
         "21",
         "21",
         "flaky_test:ui_rendering_error"
        ],
        [
         "22",
         "22",
         "docker_daemon_connection_failure"
        ],
        [
         "23",
         "23",
         "unknown_issue"
        ],
        [
         "24",
         "24",
         "flaky_test:timeout"
        ],
        [
         "25",
         "25",
         "docker_pull_limit_reached"
        ],
        [
         "26",
         "26",
         "runner_image_pull_failure"
        ],
        [
         "27",
         "27",
         "certificate_verification_failure"
        ],
        [
         "28",
         "28",
         "helm_resource_error"
        ],
        [
         "29",
         "29",
         "db_table_undefined"
        ],
        [
         "30",
         "30",
         "container_already_exists"
        ],
        [
         "31",
         "31",
         "runner_pod_waiting_timeout"
        ],
        [
         "32",
         "32",
         "container_registry_server_error"
        ],
        [
         "33",
         "33",
         "connection_closed_reset_broken"
        ],
        [
         "34",
         "34",
         "ssl_connection_error"
        ]
       ],
       "shape": {
        "columns": 2,
        "rows": 35
       }
      },
      "text/html": [
       "<div>\n",
       "<style scoped>\n",
       "    .dataframe tbody tr th:only-of-type {\n",
       "        vertical-align: middle;\n",
       "    }\n",
       "\n",
       "    .dataframe tbody tr th {\n",
       "        vertical-align: top;\n",
       "    }\n",
       "\n",
       "    .dataframe thead th {\n",
       "        text-align: right;\n",
       "    }\n",
       "</style>\n",
       "<table border=\"1\" class=\"dataframe\">\n",
       "  <thead>\n",
       "    <tr style=\"text-align: right;\">\n",
       "      <th></th>\n",
       "      <th>reason_id</th>\n",
       "      <th>failure_reason</th>\n",
       "    </tr>\n",
       "  </thead>\n",
       "  <tbody>\n",
       "    <tr>\n",
       "      <th>0</th>\n",
       "      <td>0</td>\n",
       "      <td>NaN</td>\n",
       "    </tr>\n",
       "    <tr>\n",
       "      <th>1</th>\n",
       "      <td>1</td>\n",
       "      <td>host_resolution_failure</td>\n",
       "    </tr>\n",
       "    <tr>\n",
       "      <th>2</th>\n",
       "      <td>2</td>\n",
       "      <td>dependency_installation_failure</td>\n",
       "    </tr>\n",
       "    <tr>\n",
       "      <th>3</th>\n",
       "      <td>3</td>\n",
       "      <td>remote_call_timeout</td>\n",
       "    </tr>\n",
       "    <tr>\n",
       "      <th>4</th>\n",
       "      <td>4</td>\n",
       "      <td>buggy_dependency</td>\n",
       "    </tr>\n",
       "    <tr>\n",
       "      <th>5</th>\n",
       "      <td>5</td>\n",
       "      <td>container_platform_auth_failure</td>\n",
       "    </tr>\n",
       "    <tr>\n",
       "      <th>6</th>\n",
       "      <td>6</td>\n",
       "      <td>misconfigured_env_variable</td>\n",
       "    </tr>\n",
       "    <tr>\n",
       "      <th>7</th>\n",
       "      <td>7</td>\n",
       "      <td>repository_file_not_found</td>\n",
       "    </tr>\n",
       "    <tr>\n",
       "      <th>8</th>\n",
       "      <td>8</td>\n",
       "      <td>image_not_found</td>\n",
       "    </tr>\n",
       "    <tr>\n",
       "      <th>9</th>\n",
       "      <td>9</td>\n",
       "      <td>repository_access_denied</td>\n",
       "    </tr>\n",
       "    <tr>\n",
       "      <th>10</th>\n",
       "      <td>10</td>\n",
       "      <td>connection_refused</td>\n",
       "    </tr>\n",
       "    <tr>\n",
       "      <th>11</th>\n",
       "      <td>11</td>\n",
       "      <td>runner_pod_failure</td>\n",
       "    </tr>\n",
       "    <tr>\n",
       "      <th>12</th>\n",
       "      <td>12</td>\n",
       "      <td>image_build_read_error</td>\n",
       "    </tr>\n",
       "    <tr>\n",
       "      <th>13</th>\n",
       "      <td>13</td>\n",
       "      <td>container_not_found</td>\n",
       "    </tr>\n",
       "    <tr>\n",
       "      <th>14</th>\n",
       "      <td>14</td>\n",
       "      <td>runner_system_failure</td>\n",
       "    </tr>\n",
       "    <tr>\n",
       "      <th>15</th>\n",
       "      <td>15</td>\n",
       "      <td>network_concurrency_issue</td>\n",
       "    </tr>\n",
       "    <tr>\n",
       "      <th>16</th>\n",
       "      <td>16</td>\n",
       "      <td>container_oom_error</td>\n",
       "    </tr>\n",
       "    <tr>\n",
       "      <th>17</th>\n",
       "      <td>17</td>\n",
       "      <td>git_transient_error</td>\n",
       "    </tr>\n",
       "    <tr>\n",
       "      <th>18</th>\n",
       "      <td>18</td>\n",
       "      <td>dependencies_conflict_error</td>\n",
       "    </tr>\n",
       "    <tr>\n",
       "      <th>19</th>\n",
       "      <td>19</td>\n",
       "      <td>job_execution_timeout</td>\n",
       "    </tr>\n",
       "    <tr>\n",
       "      <th>20</th>\n",
       "      <td>20</td>\n",
       "      <td>flaky_test:ui_unhandled_promise_rejection</td>\n",
       "    </tr>\n",
       "    <tr>\n",
       "      <th>21</th>\n",
       "      <td>21</td>\n",
       "      <td>flaky_test:ui_rendering_error</td>\n",
       "    </tr>\n",
       "    <tr>\n",
       "      <th>22</th>\n",
       "      <td>22</td>\n",
       "      <td>docker_daemon_connection_failure</td>\n",
       "    </tr>\n",
       "    <tr>\n",
       "      <th>23</th>\n",
       "      <td>23</td>\n",
       "      <td>unknown_issue</td>\n",
       "    </tr>\n",
       "    <tr>\n",
       "      <th>24</th>\n",
       "      <td>24</td>\n",
       "      <td>flaky_test:timeout</td>\n",
       "    </tr>\n",
       "    <tr>\n",
       "      <th>25</th>\n",
       "      <td>25</td>\n",
       "      <td>docker_pull_limit_reached</td>\n",
       "    </tr>\n",
       "    <tr>\n",
       "      <th>26</th>\n",
       "      <td>26</td>\n",
       "      <td>runner_image_pull_failure</td>\n",
       "    </tr>\n",
       "    <tr>\n",
       "      <th>27</th>\n",
       "      <td>27</td>\n",
       "      <td>certificate_verification_failure</td>\n",
       "    </tr>\n",
       "    <tr>\n",
       "      <th>28</th>\n",
       "      <td>28</td>\n",
       "      <td>helm_resource_error</td>\n",
       "    </tr>\n",
       "    <tr>\n",
       "      <th>29</th>\n",
       "      <td>29</td>\n",
       "      <td>db_table_undefined</td>\n",
       "    </tr>\n",
       "    <tr>\n",
       "      <th>30</th>\n",
       "      <td>30</td>\n",
       "      <td>container_already_exists</td>\n",
       "    </tr>\n",
       "    <tr>\n",
       "      <th>31</th>\n",
       "      <td>31</td>\n",
       "      <td>runner_pod_waiting_timeout</td>\n",
       "    </tr>\n",
       "    <tr>\n",
       "      <th>32</th>\n",
       "      <td>32</td>\n",
       "      <td>container_registry_server_error</td>\n",
       "    </tr>\n",
       "    <tr>\n",
       "      <th>33</th>\n",
       "      <td>33</td>\n",
       "      <td>connection_closed_reset_broken</td>\n",
       "    </tr>\n",
       "    <tr>\n",
       "      <th>34</th>\n",
       "      <td>34</td>\n",
       "      <td>ssl_connection_error</td>\n",
       "    </tr>\n",
       "  </tbody>\n",
       "</table>\n",
       "</div>"
      ],
      "text/plain": [
       "    reason_id                             failure_reason\n",
       "0           0                                        NaN\n",
       "1           1                    host_resolution_failure\n",
       "2           2            dependency_installation_failure\n",
       "3           3                        remote_call_timeout\n",
       "4           4                           buggy_dependency\n",
       "5           5            container_platform_auth_failure\n",
       "6           6                 misconfigured_env_variable\n",
       "7           7                  repository_file_not_found\n",
       "8           8                            image_not_found\n",
       "9           9                   repository_access_denied\n",
       "10         10                         connection_refused\n",
       "11         11                         runner_pod_failure\n",
       "12         12                     image_build_read_error\n",
       "13         13                        container_not_found\n",
       "14         14                      runner_system_failure\n",
       "15         15                  network_concurrency_issue\n",
       "16         16                        container_oom_error\n",
       "17         17                        git_transient_error\n",
       "18         18                dependencies_conflict_error\n",
       "19         19                      job_execution_timeout\n",
       "20         20  flaky_test:ui_unhandled_promise_rejection\n",
       "21         21              flaky_test:ui_rendering_error\n",
       "22         22           docker_daemon_connection_failure\n",
       "23         23                              unknown_issue\n",
       "24         24                         flaky_test:timeout\n",
       "25         25                  docker_pull_limit_reached\n",
       "26         26                  runner_image_pull_failure\n",
       "27         27           certificate_verification_failure\n",
       "28         28                        helm_resource_error\n",
       "29         29                         db_table_undefined\n",
       "30         30                   container_already_exists\n",
       "31         31                 runner_pod_waiting_timeout\n",
       "32         32            container_registry_server_error\n",
       "33         33             connection_closed_reset_broken\n",
       "34         34                       ssl_connection_error"
      ]
     },
     "execution_count": 6,
     "metadata": {},
     "output_type": "execute_result"
    }
   ],
   "source": [
    "flakiness_causes = pd.read_csv(\"../data/results/flakiness_causes.csv\")\n",
    "flakiness_causes = flakiness_causes[[\"code\", \"failure_reason\"]]\n",
    "flakiness_causes.columns = [\"reason_id\", \"failure_reason\"]\n",
    "flakiness_causes"
   ]
  },
  {
   "cell_type": "code",
   "execution_count": 7,
   "metadata": {},
   "outputs": [
    {
     "data": {
      "application/vnd.microsoft.datawrangler.viewer.v0+json": {
       "columns": [
        {
         "name": "index",
         "rawType": "int64",
         "type": "integer"
        },
        {
         "name": "reason_id",
         "rawType": "int64",
         "type": "integer"
        },
        {
         "name": "failure_reason",
         "rawType": "object",
         "type": "string"
        },
        {
         "name": "count",
         "rawType": "int64",
         "type": "integer"
        },
        {
         "name": "project",
         "rawType": "int64",
         "type": "integer"
        }
       ],
       "conversionMethod": "pd.DataFrame",
       "ref": "5c1d71e8-437b-4afa-981a-dcee11dc9faf",
       "rows": [
        [
         "5",
         "6",
         "misconfigured_env_variable",
         "273",
         "4"
        ],
        [
         "4",
         "5",
         "container_platform_auth_failure",
         "61",
         "4"
        ],
        [
         "1",
         "2",
         "dependency_installation_failure",
         "47",
         "3"
        ],
        [
         "17",
         "18",
         "dependencies_conflict_error",
         "32",
         "1"
        ],
        [
         "28",
         "29",
         "db_table_undefined",
         "29",
         "1"
        ],
        [
         "12",
         "13",
         "container_not_found",
         "25",
         "4"
        ],
        [
         "22",
         "23",
         "unknown_issue",
         "24",
         "3"
        ],
        [
         "3",
         "4",
         "buggy_dependency",
         "17",
         "3"
        ],
        [
         "8",
         "9",
         "repository_access_denied",
         "17",
         "3"
        ],
        [
         "0",
         "1",
         "host_resolution_failure",
         "15",
         "5"
        ],
        [
         "27",
         "28",
         "helm_resource_error",
         "13",
         "3"
        ],
        [
         "18",
         "19",
         "job_execution_timeout",
         "12",
         "3"
        ],
        [
         "16",
         "17",
         "git_transient_error",
         "12",
         "4"
        ],
        [
         "21",
         "22",
         "docker_daemon_connection_failure",
         "11",
         "1"
        ],
        [
         "9",
         "10",
         "connection_refused",
         "11",
         "3"
        ],
        [
         "2",
         "3",
         "remote_call_timeout",
         "10",
         "3"
        ],
        [
         "31",
         "32",
         "container_registry_server_error",
         "10",
         "2"
        ],
        [
         "13",
         "14",
         "runner_system_failure",
         "9",
         "4"
        ],
        [
         "26",
         "27",
         "certificate_verification_failure",
         "8",
         "2"
        ],
        [
         "7",
         "8",
         "image_not_found",
         "8",
         "1"
        ],
        [
         "25",
         "26",
         "runner_image_pull_failure",
         "8",
         "3"
        ],
        [
         "10",
         "11",
         "runner_pod_failure",
         "5",
         "3"
        ],
        [
         "30",
         "31",
         "runner_pod_waiting_timeout",
         "4",
         "2"
        ],
        [
         "23",
         "24",
         "flaky_test:timeout",
         "4",
         "1"
        ],
        [
         "32",
         "33",
         "connection_closed_reset_broken",
         "3",
         "2"
        ],
        [
         "11",
         "12",
         "image_build_read_error",
         "3",
         "2"
        ],
        [
         "29",
         "30",
         "container_already_exists",
         "3",
         "2"
        ],
        [
         "19",
         "20",
         "flaky_test:ui_unhandled_promise_rejection",
         "2",
         "1"
        ],
        [
         "6",
         "7",
         "repository_file_not_found",
         "2",
         "1"
        ],
        [
         "15",
         "16",
         "container_oom_error",
         "2",
         "1"
        ],
        [
         "14",
         "15",
         "network_concurrency_issue",
         "1",
         "1"
        ],
        [
         "20",
         "21",
         "flaky_test:ui_rendering_error",
         "1",
         "1"
        ],
        [
         "24",
         "25",
         "docker_pull_limit_reached",
         "1",
         "1"
        ],
        [
         "33",
         "34",
         "ssl_connection_error",
         "1",
         "1"
        ]
       ],
       "shape": {
        "columns": 4,
        "rows": 34
       }
      },
      "text/html": [
       "<div>\n",
       "<style scoped>\n",
       "    .dataframe tbody tr th:only-of-type {\n",
       "        vertical-align: middle;\n",
       "    }\n",
       "\n",
       "    .dataframe tbody tr th {\n",
       "        vertical-align: top;\n",
       "    }\n",
       "\n",
       "    .dataframe thead th {\n",
       "        text-align: right;\n",
       "    }\n",
       "</style>\n",
       "<table border=\"1\" class=\"dataframe\">\n",
       "  <thead>\n",
       "    <tr style=\"text-align: right;\">\n",
       "      <th></th>\n",
       "      <th>reason_id</th>\n",
       "      <th>failure_reason</th>\n",
       "      <th>count</th>\n",
       "      <th>project</th>\n",
       "    </tr>\n",
       "  </thead>\n",
       "  <tbody>\n",
       "    <tr>\n",
       "      <th>5</th>\n",
       "      <td>6</td>\n",
       "      <td>misconfigured_env_variable</td>\n",
       "      <td>273</td>\n",
       "      <td>4</td>\n",
       "    </tr>\n",
       "    <tr>\n",
       "      <th>4</th>\n",
       "      <td>5</td>\n",
       "      <td>container_platform_auth_failure</td>\n",
       "      <td>61</td>\n",
       "      <td>4</td>\n",
       "    </tr>\n",
       "    <tr>\n",
       "      <th>1</th>\n",
       "      <td>2</td>\n",
       "      <td>dependency_installation_failure</td>\n",
       "      <td>47</td>\n",
       "      <td>3</td>\n",
       "    </tr>\n",
       "    <tr>\n",
       "      <th>17</th>\n",
       "      <td>18</td>\n",
       "      <td>dependencies_conflict_error</td>\n",
       "      <td>32</td>\n",
       "      <td>1</td>\n",
       "    </tr>\n",
       "    <tr>\n",
       "      <th>28</th>\n",
       "      <td>29</td>\n",
       "      <td>db_table_undefined</td>\n",
       "      <td>29</td>\n",
       "      <td>1</td>\n",
       "    </tr>\n",
       "    <tr>\n",
       "      <th>12</th>\n",
       "      <td>13</td>\n",
       "      <td>container_not_found</td>\n",
       "      <td>25</td>\n",
       "      <td>4</td>\n",
       "    </tr>\n",
       "    <tr>\n",
       "      <th>22</th>\n",
       "      <td>23</td>\n",
       "      <td>unknown_issue</td>\n",
       "      <td>24</td>\n",
       "      <td>3</td>\n",
       "    </tr>\n",
       "    <tr>\n",
       "      <th>3</th>\n",
       "      <td>4</td>\n",
       "      <td>buggy_dependency</td>\n",
       "      <td>17</td>\n",
       "      <td>3</td>\n",
       "    </tr>\n",
       "    <tr>\n",
       "      <th>8</th>\n",
       "      <td>9</td>\n",
       "      <td>repository_access_denied</td>\n",
       "      <td>17</td>\n",
       "      <td>3</td>\n",
       "    </tr>\n",
       "    <tr>\n",
       "      <th>0</th>\n",
       "      <td>1</td>\n",
       "      <td>host_resolution_failure</td>\n",
       "      <td>15</td>\n",
       "      <td>5</td>\n",
       "    </tr>\n",
       "    <tr>\n",
       "      <th>27</th>\n",
       "      <td>28</td>\n",
       "      <td>helm_resource_error</td>\n",
       "      <td>13</td>\n",
       "      <td>3</td>\n",
       "    </tr>\n",
       "    <tr>\n",
       "      <th>18</th>\n",
       "      <td>19</td>\n",
       "      <td>job_execution_timeout</td>\n",
       "      <td>12</td>\n",
       "      <td>3</td>\n",
       "    </tr>\n",
       "    <tr>\n",
       "      <th>16</th>\n",
       "      <td>17</td>\n",
       "      <td>git_transient_error</td>\n",
       "      <td>12</td>\n",
       "      <td>4</td>\n",
       "    </tr>\n",
       "    <tr>\n",
       "      <th>21</th>\n",
       "      <td>22</td>\n",
       "      <td>docker_daemon_connection_failure</td>\n",
       "      <td>11</td>\n",
       "      <td>1</td>\n",
       "    </tr>\n",
       "    <tr>\n",
       "      <th>9</th>\n",
       "      <td>10</td>\n",
       "      <td>connection_refused</td>\n",
       "      <td>11</td>\n",
       "      <td>3</td>\n",
       "    </tr>\n",
       "    <tr>\n",
       "      <th>2</th>\n",
       "      <td>3</td>\n",
       "      <td>remote_call_timeout</td>\n",
       "      <td>10</td>\n",
       "      <td>3</td>\n",
       "    </tr>\n",
       "    <tr>\n",
       "      <th>31</th>\n",
       "      <td>32</td>\n",
       "      <td>container_registry_server_error</td>\n",
       "      <td>10</td>\n",
       "      <td>2</td>\n",
       "    </tr>\n",
       "    <tr>\n",
       "      <th>13</th>\n",
       "      <td>14</td>\n",
       "      <td>runner_system_failure</td>\n",
       "      <td>9</td>\n",
       "      <td>4</td>\n",
       "    </tr>\n",
       "    <tr>\n",
       "      <th>26</th>\n",
       "      <td>27</td>\n",
       "      <td>certificate_verification_failure</td>\n",
       "      <td>8</td>\n",
       "      <td>2</td>\n",
       "    </tr>\n",
       "    <tr>\n",
       "      <th>7</th>\n",
       "      <td>8</td>\n",
       "      <td>image_not_found</td>\n",
       "      <td>8</td>\n",
       "      <td>1</td>\n",
       "    </tr>\n",
       "    <tr>\n",
       "      <th>25</th>\n",
       "      <td>26</td>\n",
       "      <td>runner_image_pull_failure</td>\n",
       "      <td>8</td>\n",
       "      <td>3</td>\n",
       "    </tr>\n",
       "    <tr>\n",
       "      <th>10</th>\n",
       "      <td>11</td>\n",
       "      <td>runner_pod_failure</td>\n",
       "      <td>5</td>\n",
       "      <td>3</td>\n",
       "    </tr>\n",
       "    <tr>\n",
       "      <th>30</th>\n",
       "      <td>31</td>\n",
       "      <td>runner_pod_waiting_timeout</td>\n",
       "      <td>4</td>\n",
       "      <td>2</td>\n",
       "    </tr>\n",
       "    <tr>\n",
       "      <th>23</th>\n",
       "      <td>24</td>\n",
       "      <td>flaky_test:timeout</td>\n",
       "      <td>4</td>\n",
       "      <td>1</td>\n",
       "    </tr>\n",
       "    <tr>\n",
       "      <th>32</th>\n",
       "      <td>33</td>\n",
       "      <td>connection_closed_reset_broken</td>\n",
       "      <td>3</td>\n",
       "      <td>2</td>\n",
       "    </tr>\n",
       "    <tr>\n",
       "      <th>11</th>\n",
       "      <td>12</td>\n",
       "      <td>image_build_read_error</td>\n",
       "      <td>3</td>\n",
       "      <td>2</td>\n",
       "    </tr>\n",
       "    <tr>\n",
       "      <th>29</th>\n",
       "      <td>30</td>\n",
       "      <td>container_already_exists</td>\n",
       "      <td>3</td>\n",
       "      <td>2</td>\n",
       "    </tr>\n",
       "    <tr>\n",
       "      <th>19</th>\n",
       "      <td>20</td>\n",
       "      <td>flaky_test:ui_unhandled_promise_rejection</td>\n",
       "      <td>2</td>\n",
       "      <td>1</td>\n",
       "    </tr>\n",
       "    <tr>\n",
       "      <th>6</th>\n",
       "      <td>7</td>\n",
       "      <td>repository_file_not_found</td>\n",
       "      <td>2</td>\n",
       "      <td>1</td>\n",
       "    </tr>\n",
       "    <tr>\n",
       "      <th>15</th>\n",
       "      <td>16</td>\n",
       "      <td>container_oom_error</td>\n",
       "      <td>2</td>\n",
       "      <td>1</td>\n",
       "    </tr>\n",
       "    <tr>\n",
       "      <th>14</th>\n",
       "      <td>15</td>\n",
       "      <td>network_concurrency_issue</td>\n",
       "      <td>1</td>\n",
       "      <td>1</td>\n",
       "    </tr>\n",
       "    <tr>\n",
       "      <th>20</th>\n",
       "      <td>21</td>\n",
       "      <td>flaky_test:ui_rendering_error</td>\n",
       "      <td>1</td>\n",
       "      <td>1</td>\n",
       "    </tr>\n",
       "    <tr>\n",
       "      <th>24</th>\n",
       "      <td>25</td>\n",
       "      <td>docker_pull_limit_reached</td>\n",
       "      <td>1</td>\n",
       "      <td>1</td>\n",
       "    </tr>\n",
       "    <tr>\n",
       "      <th>33</th>\n",
       "      <td>34</td>\n",
       "      <td>ssl_connection_error</td>\n",
       "      <td>1</td>\n",
       "      <td>1</td>\n",
       "    </tr>\n",
       "  </tbody>\n",
       "</table>\n",
       "</div>"
      ],
      "text/plain": [
       "    reason_id                             failure_reason  count  project\n",
       "5           6                 misconfigured_env_variable    273        4\n",
       "4           5            container_platform_auth_failure     61        4\n",
       "1           2            dependency_installation_failure     47        3\n",
       "17         18                dependencies_conflict_error     32        1\n",
       "28         29                         db_table_undefined     29        1\n",
       "12         13                        container_not_found     25        4\n",
       "22         23                              unknown_issue     24        3\n",
       "3           4                           buggy_dependency     17        3\n",
       "8           9                   repository_access_denied     17        3\n",
       "0           1                    host_resolution_failure     15        5\n",
       "27         28                        helm_resource_error     13        3\n",
       "18         19                      job_execution_timeout     12        3\n",
       "16         17                        git_transient_error     12        4\n",
       "21         22           docker_daemon_connection_failure     11        1\n",
       "9          10                         connection_refused     11        3\n",
       "2           3                        remote_call_timeout     10        3\n",
       "31         32            container_registry_server_error     10        2\n",
       "13         14                      runner_system_failure      9        4\n",
       "26         27           certificate_verification_failure      8        2\n",
       "7           8                            image_not_found      8        1\n",
       "25         26                  runner_image_pull_failure      8        3\n",
       "10         11                         runner_pod_failure      5        3\n",
       "30         31                 runner_pod_waiting_timeout      4        2\n",
       "23         24                         flaky_test:timeout      4        1\n",
       "32         33             connection_closed_reset_broken      3        2\n",
       "11         12                     image_build_read_error      3        2\n",
       "29         30                   container_already_exists      3        2\n",
       "19         20  flaky_test:ui_unhandled_promise_rejection      2        1\n",
       "6           7                  repository_file_not_found      2        1\n",
       "15         16                        container_oom_error      2        1\n",
       "14         15                  network_concurrency_issue      1        1\n",
       "20         21              flaky_test:ui_rendering_error      1        1\n",
       "24         25                  docker_pull_limit_reached      1        1\n",
       "33         34                       ssl_connection_error      1        1"
      ]
     },
     "execution_count": 7,
     "metadata": {},
     "output_type": "execute_result"
    }
   ],
   "source": [
    "reasons_stats = reasons_df.groupby(\"reason_id\").aggregate(\n",
    "    {\n",
    "        \"count\": \"sum\",\n",
    "        \"project\": \"count\"\n",
    "    }\n",
    ").reset_index()\n",
    "reasons_stats = pd.merge(reasons_stats, flakiness_causes, on=\"reason_id\", how=\"left\")\n",
    "reasons_stats = reasons_stats.sort_values(by=\"count\", ascending=False)\n",
    "reasons_stats = reasons_stats[[\"reason_id\", \"failure_reason\", \"count\", \"project\"]]\n",
    "reasons_stats"
   ]
  },
  {
   "cell_type": "code",
   "execution_count": 8,
   "metadata": {},
   "outputs": [],
   "source": [
    "reasons_stats.to_csv(\"../data/results/mislabeled_failure_reasons.csv\", index=False)"
   ]
  },
  {
   "cell_type": "code",
   "execution_count": null,
   "metadata": {},
   "outputs": [],
   "source": []
  }
 ],
 "metadata": {
  "kernelspec": {
   "display_name": "efficient-flaky-job-failures-detection-JNjBQ_ya-py3.10",
   "language": "python",
   "name": "python3"
  },
  "language_info": {
   "codemirror_mode": {
    "name": "ipython",
    "version": 3
   },
   "file_extension": ".py",
   "mimetype": "text/x-python",
   "name": "python",
   "nbconvert_exporter": "python",
   "pygments_lexer": "ipython3",
   "version": "3.10.12"
  }
 },
 "nbformat": 4,
 "nbformat_minor": 2
}
