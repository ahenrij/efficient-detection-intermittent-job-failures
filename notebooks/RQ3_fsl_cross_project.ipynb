{
 "cells": [
  {
   "cell_type": "markdown",
   "metadata": {},
   "source": [
    "# Setup"
   ]
  },
  {
   "cell_type": "code",
   "execution_count": 1,
   "metadata": {},
   "outputs": [],
   "source": [
    "import pandas as pd\n",
    "\n",
    "from src.utils import constants"
   ]
  },
  {
   "cell_type": "code",
   "execution_count": 2,
   "metadata": {},
   "outputs": [],
   "source": [
    "config = {\n",
    "  'toImageButtonOptions': {\n",
    "    'format': 'png', # one of png, svg, jpeg, webp\n",
    "    'filename': 'noise_dist',\n",
    "    'scale': 3\n",
    "  }\n",
    "}"
   ]
  },
  {
   "cell_type": "markdown",
   "metadata": {},
   "source": [
    "# Load data"
   ]
  },
  {
   "cell_type": "code",
   "execution_count": 5,
   "metadata": {},
   "outputs": [
    {
     "data": {
      "text/plain": [
       "(8694, 29)"
      ]
     },
     "execution_count": 5,
     "metadata": {},
     "output_type": "execute_result"
    }
   ],
   "source": [
    "model_runs_list = []\n",
    "\n",
    "for project in constants.PROJECTS:\n",
    "    df = pd.read_csv(f\"../data/results/runs/{project}.csv\")\n",
    "    df[\"project\"] = project if project != \"veloren\" else \"OS\"\n",
    "    df.rename(columns={\"veloren\": \"OS\"}, inplace=True)\n",
    "    model_runs_list.append(df)\n",
    "\n",
    "model_runs = pd.concat(model_runs_list, axis=0, ignore_index=True)\n",
    "model_runs.shape"
   ]
  },
  {
   "cell_type": "markdown",
   "metadata": {},
   "source": [
    "### Numerical performance statistics"
   ]
  },
  {
   "cell_type": "code",
   "execution_count": null,
   "metadata": {},
   "outputs": [],
   "source": [
    "\n",
    "def model_performance_stats(num_shots:int=1):\n",
    "    \"\"\"Compute statistics of model performance for a given number of shots.\"\"\"\n",
    "\n",
    "    runs = model_runs[model_runs[\"num_shots\"] == num_shots]\n",
    "    runs = runs[[\"project\", \"A\", \"B\", \"C\", \"D\", \"E\", \"OS\"]]\n",
    "    runs = runs.groupby(\"project\").agg([\"mean\", \"std\"])\n",
    "    runs = runs * 100\n",
    "    runs = runs.round().astype(int).reset_index()\n",
    "    return runs"
   ]
  },
  {
   "cell_type": "markdown",
   "metadata": {},
   "source": [
    "#### 12-Shots Cross-Project Performance"
   ]
  },
  {
   "cell_type": "code",
   "execution_count": 11,
   "metadata": {},
   "outputs": [],
   "source": [
    "cross_project_performance = model_performance_stats(num_shots=12)\n",
    "cross_project_performance.to_csv(\"../data/results/cross_project_performance.csv\", index=False)"
   ]
  },
  {
   "cell_type": "code",
   "execution_count": null,
   "metadata": {},
   "outputs": [],
   "source": []
  }
 ],
 "metadata": {
  "kernelspec": {
   "display_name": "efficient-flaky-job-failures-detection-JNjBQ_ya-py3.10",
   "language": "python",
   "name": "python3"
  },
  "language_info": {
   "codemirror_mode": {
    "name": "ipython",
    "version": 3
   },
   "file_extension": ".py",
   "mimetype": "text/x-python",
   "name": "python",
   "nbconvert_exporter": "python",
   "pygments_lexer": "ipython3",
   "version": "3.10.12"
  }
 },
 "nbformat": 4,
 "nbformat_minor": 2
}
